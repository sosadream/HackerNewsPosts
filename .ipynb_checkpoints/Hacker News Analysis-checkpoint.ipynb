{
 "cells": [
  {
   "cell_type": "markdown",
   "metadata": {},
   "source": [
    "## Exploring Hacker News Posts\n",
    "In this project, I will work with data set of submissions to popular technology site [Hacker News](https://news.ycombinator.com)\n",
    "\n",
    "I will work with posts whose title begin with either `Ask HN` or `Show HN` and analyze them"
   ]
  },
  {
   "cell_type": "markdown",
   "metadata": {},
   "source": [
    "### Opening The Data\n",
    "The data set can be found [here](https://www.kaggle.com/hacker-news/hacker-news-posts)"
   ]
  },
  {
   "cell_type": "code",
   "execution_count": 1,
   "metadata": {},
   "outputs": [],
   "source": [
    "from csv import reader\n",
    "open_file = open(\"HN_posts_year_to_Sep_26_2016.csv\", encoding='utf-8')\n",
    "read_file = reader(open_file)\n",
    "hn = list(read_file)\n",
    "headers = hn[0]\n",
    "hn = hn[1:]"
   ]
  },
  {
   "cell_type": "code",
   "execution_count": 2,
   "metadata": {},
   "outputs": [
    {
     "name": "stdout",
     "output_type": "stream",
     "text": [
      "['id', 'title', 'url', 'num_points', 'num_comments', 'author', 'created_at'] \n",
      "\n",
      "[['12579008', 'You have two days to comment if you want stem cells to be classified as your own', 'http://www.regulations.gov/document?D=FDA-2015-D-3719-0018', '1', '0', 'altstar', '9/26/2016 3:26'], ['12579005', 'SQLAR  the SQLite Archiver', 'https://www.sqlite.org/sqlar/doc/trunk/README.md', '1', '0', 'blacksqr', '9/26/2016 3:24'], ['12578997', 'What if we just printed a flatscreen television on the side of our boxes?', 'https://medium.com/vanmoof/our-secrets-out-f21c1f03fdc8#.ietxmez43', '1', '0', 'pavel_lishin', '9/26/2016 3:19'], ['12578989', 'algorithmic music', 'http://cacm.acm.org/magazines/2011/7/109891-algorithmic-composition/fulltext', '1', '0', 'poindontcare', '9/26/2016 3:16'], ['12578979', 'How the Data Vault Enables the Next-Gen Data Warehouse and Data Lake', 'https://www.talend.com/blog/2016/05/12/talend-and-Â\\x93the-data-vaultÂ\\x94', '1', '0', 'markgainor1', '9/26/2016 3:14']]\n"
     ]
    }
   ],
   "source": [
    "print(headers,'\\n')\n",
    "print(hn[:5])"
   ]
  },
  {
   "cell_type": "markdown",
   "metadata": {},
   "source": [
    "### Extracting Ask HN and Show HN Posts\n",
    "To find the posts that begin with either `Ask HN` or `Show HN`, I'll use the string method `startswith`. "
   ]
  },
  {
   "cell_type": "code",
   "execution_count": 3,
   "metadata": {},
   "outputs": [],
   "source": [
    "# testing = 'TesTing'\n",
    "# testing = testing.lower()\n",
    "# print(testing)"
   ]
  },
  {
   "cell_type": "code",
   "execution_count": 4,
   "metadata": {},
   "outputs": [
    {
     "name": "stdout",
     "output_type": "stream",
     "text": [
      "9139\n",
      "10158\n",
      "273822\n"
     ]
    }
   ],
   "source": [
    "ask_posts = []\n",
    "show_posts = []\n",
    "other_posts = []\n",
    "for row in hn:\n",
    "    title = row[1]\n",
    "    title = title.lower()\n",
    "    if title.startswith('ask hn'):\n",
    "        ask_posts.append(row)\n",
    "    elif title.startswith('show hn'):\n",
    "        show_posts.append(row)\n",
    "    else:\n",
    "        other_posts.append(row)\n",
    "        \n",
    "print(len(ask_posts))\n",
    "print(len(show_posts))\n",
    "print(len(other_posts))"
   ]
  },
  {
   "cell_type": "code",
   "execution_count": 5,
   "metadata": {},
   "outputs": [
    {
     "name": "stdout",
     "output_type": "stream",
     "text": [
      "[['12578908', 'Ask HN: What TLD do you use for local development?', '', '4', '7', 'Sevrene', '9/26/2016 2:53'], ['12578522', 'Ask HN: How do you pass on your work when you die?', '', '6', '3', 'PascLeRasc', '9/26/2016 1:17'], ['12577908', 'Ask HN: How a DNS problem can be limited to a geographic region?', '', '1', '0', 'kuon', '9/25/2016 22:57']]\n"
     ]
    }
   ],
   "source": [
    "print(ask_posts[:3])"
   ]
  },
  {
   "cell_type": "markdown",
   "metadata": {},
   "source": [
    "### Calculating the Average Number of Comments for Ask HN and Show HN Posts"
   ]
  },
  {
   "cell_type": "code",
   "execution_count": 6,
   "metadata": {},
   "outputs": [
    {
     "name": "stdout",
     "output_type": "stream",
     "text": [
      "Average Ask HN comments: 10.39\n",
      "Average Show HN comments: 4.89\n"
     ]
    }
   ],
   "source": [
    "## To find total number of comments in ask posts\n",
    "total_ask_comments = 0\n",
    "for row in ask_posts:\n",
    "    num_ask_comments = int(row[4])\n",
    "    total_ask_comments += num_ask_comments\n",
    "avg_ask_comments = total_ask_comments/len(ask_posts)\n",
    "print('Average Ask HN comments: {:.2f}'.format(avg_ask_comments))\n",
    "\n",
    "## To find total number of comments in ask posts\n",
    "total_show_comments = 0\n",
    "for row in show_posts:\n",
    "    num_comments = int(row[4])\n",
    "    total_show_comments += num_comments\n",
    "avg_show_comments = total_show_comments/len(show_posts)\n",
    "print('Average Show HN comments: {:.2f}'.format(avg_show_comments))"
   ]
  },
  {
   "cell_type": "markdown",
   "metadata": {},
   "source": [
    "We can see that the Ask HN posts receive more comments on average, over two times more than the Show HN posts"
   ]
  },
  {
   "cell_type": "markdown",
   "metadata": {},
   "source": [
    "### Finding the Amount of Ask Posts and Comments by Hour Created\n",
    "I'll determine if ask posts created at a certain time are more likely to attract comments. The following steps will be used to perform this analysis:\n",
    "1. Calculate the amount of ask posts created in each hour of the day, along with th e number of comments received\n",
    "2. Calculate the average number of comments ask posts receive by hour created"
   ]
  },
  {
   "cell_type": "code",
   "execution_count": 7,
   "metadata": {},
   "outputs": [
    {
     "name": "stdout",
     "output_type": "stream",
     "text": [
      "{'02': 269, '01': 282, '22': 383, '21': 518, '19': 552, '17': 587, '15': 646, '14': 513, '13': 444, '11': 312, '10': 282, '09': 222, '07': 226, '03': 271, '23': 343, '20': 510, '16': 579, '08': 257, '00': 301, '18': 614, '12': 342, '04': 243, '06': 234, '05': 209} \n",
      "\n",
      "{'02': 5380, '01': 5640, '22': 7660, '21': 10360, '19': 11040, '17': 11740, '15': 12920, '14': 10260, '13': 8880, '11': 6240, '10': 5640, '09': 4440, '07': 4520, '03': 5420, '23': 6860, '20': 10200, '16': 11580, '08': 5140, '00': 6020, '18': 12280, '12': 6840, '04': 4860, '06': 4680, '05': 4180}\n"
     ]
    }
   ],
   "source": [
    "import datetime as dt\n",
    "result_list = []\n",
    "for row in ask_posts:\n",
    "    created_at = row[-1]\n",
    "    num_comments = int(row[4])\n",
    "    result_list.append([created_at,num_comments])\n",
    "\n",
    "# print(result_list[:10])\n",
    "\n",
    "counts_by_hour = {}\n",
    "comments_by_hour = {}\n",
    "for row in result_list:\n",
    "    comment = num_comments\n",
    "    date_and_time = row[0]\n",
    "    date_and_time = dt.datetime.strptime(date_and_time,\"%m/%d/%Y %H:%M\")\n",
    "    hour = date_and_time.strftime(\"%H\")\n",
    "    \n",
    "    if hour in counts_by_hour:\n",
    "        counts_by_hour[hour] += 1\n",
    "        comments_by_hour[hour] += comment\n",
    "    else:\n",
    "        counts_by_hour[hour] = 1\n",
    "        comments_by_hour[hour] = comment\n",
    "\n",
    "print(counts_by_hour,'\\n')\n",
    "print(comments_by_hour)"
   ]
  },
  {
   "cell_type": "markdown",
   "metadata": {},
   "source": [
    "### Calculating the Average Number of Comments for Ask HN Posts by Hour"
   ]
  },
  {
   "cell_type": "code",
   "execution_count": 8,
   "metadata": {},
   "outputs": [
    {
     "name": "stdout",
     "output_type": "stream",
     "text": [
      "02 : 17.4\n",
      "01 : 16.6\n",
      "22 : 12.22\n",
      "21 : 9.03\n",
      "19 : 8.48\n",
      "17 : 7.97\n",
      "15 : 7.24\n",
      "14 : 9.12\n",
      "13 : 10.54\n",
      "11 : 15.0\n",
      "10 : 16.6\n",
      "09 : 21.08\n",
      "07 : 20.71\n",
      "03 : 17.27\n",
      "23 : 13.64\n",
      "20 : 9.18\n",
      "16 : 8.08\n",
      "08 : 18.21\n",
      "00 : 15.55\n",
      "18 : 7.62\n",
      "12 : 13.68\n",
      "04 : 19.26\n",
      "06 : 20.0\n",
      "05 : 22.39\n"
     ]
    }
   ],
   "source": [
    "avg_by_hour = []\n",
    "for time in counts_by_hour:\n",
    "    avg_by_hour.append([time, round((comments_by_hour[hour]/\n",
    "                                       counts_by_hour[time]),2)])\n",
    "for row in avg_by_hour:   \n",
    "    print(row[0],\":\",row[1])"
   ]
  },
  {
   "cell_type": "code",
   "execution_count": 9,
   "metadata": {},
   "outputs": [
    {
     "name": "stdout",
     "output_type": "stream",
     "text": [
      "[[17.4, '02'], [16.6, '01'], [12.22, '22'], [9.03, '21'], [8.48, '19'], [7.97, '17'], [7.24, '15'], [9.12, '14'], [10.54, '13'], [15.0, '11'], [16.6, '10'], [21.08, '09'], [20.71, '07'], [17.27, '03'], [13.64, '23'], [9.18, '20'], [8.08, '16'], [18.21, '08'], [15.55, '00'], [7.62, '18'], [13.68, '12'], [19.26, '04'], [20.0, '06'], [22.39, '05']]\n"
     ]
    }
   ],
   "source": [
    "## Sorting and Printing values from List of Lists\n",
    "swap_avg_by_hour = []\n",
    "for row in avg_by_hour:\n",
    "    swap_avg_by_hour.append([row[1],row[0]])\n",
    "                        \n",
    "print(swap_avg_by_hour)"
   ]
  },
  {
   "cell_type": "code",
   "execution_count": 11,
   "metadata": {},
   "outputs": [
    {
     "name": "stdout",
     "output_type": "stream",
     "text": [
      "[[22.39, '05'], [21.08, '09'], [20.71, '07'], [20.0, '06'], [19.26, '04'], [18.21, '08'], [17.4, '02'], [17.27, '03'], [16.6, '10'], [16.6, '01'], [15.55, '00'], [15.0, '11'], [13.68, '12'], [13.64, '23'], [12.22, '22'], [10.54, '13'], [9.18, '20'], [9.12, '14'], [9.03, '21'], [8.48, '19'], [8.08, '16'], [7.97, '17'], [7.62, '18'], [7.24, '15']] \n",
      "\n",
      "Top 5 Hours for Ask Posts Comments\n",
      "[[22.39, '05'], [21.08, '09'], [20.71, '07'], [20.0, '06'], [19.26, '04']]\n"
     ]
    }
   ],
   "source": [
    "### Sorting the average comments\n",
    "sorted_swap = sorted(swap_avg_by_hour, reverse = True)\n",
    "# for row in sorted_swap:\n",
    "#     print(row[1],':',row[0])\n",
    "print(sorted_swap,'\\n')\n",
    "print(\"Top 5 Hours for Ask Posts Comments\")\n",
    "print(sorted_swap[:5])"
   ]
  },
  {
   "cell_type": "code",
   "execution_count": 18,
   "metadata": {},
   "outputs": [
    {
     "name": "stdout",
     "output_type": "stream",
     "text": [
      "05AM 22.39 average comments per post\n",
      "09AM 21.08 average comments per post\n",
      "07AM 20.71 average comments per post\n",
      "06AM 20.0 average comments per post\n",
      "04AM 19.26 average comments per post\n"
     ]
    }
   ],
   "source": [
    "for row in sorted_swap[:5]:\n",
    "    time = row[1]\n",
    "    comment = row[0]\n",
    "    time = dt.datetime.strptime(time,\"%H\").strftime(\"%I%p\")\n",
    "    print(\"{0:} {1} average comments per post\".format(time,comment))"
   ]
  },
  {
   "cell_type": "code",
   "execution_count": null,
   "metadata": {},
   "outputs": [],
   "source": []
  }
 ],
 "metadata": {
  "kernelspec": {
   "display_name": "Python 3",
   "language": "python",
   "name": "python3"
  },
  "language_info": {
   "codemirror_mode": {
    "name": "ipython",
    "version": 3
   },
   "file_extension": ".py",
   "mimetype": "text/x-python",
   "name": "python",
   "nbconvert_exporter": "python",
   "pygments_lexer": "ipython3",
   "version": "3.7.4"
  }
 },
 "nbformat": 4,
 "nbformat_minor": 2
}
